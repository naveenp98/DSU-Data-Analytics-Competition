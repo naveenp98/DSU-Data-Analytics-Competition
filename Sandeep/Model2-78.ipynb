{
 "cells": [
  {
   "cell_type": "code",
   "execution_count": null,
   "id": "8bc3b72b",
   "metadata": {},
   "outputs": [],
   "source": [
    "# Filter rows with missing values\n",
    "# melbourne_data = melbourne_data.dropna(axis=0)\n",
    "# Choose target and features\n",
    "# y = melbourne_data.Price\n",
    "# melbourne_features = ['Rooms', 'Bathroom', 'Landsize', 'BuildingArea', \n",
    "#                         'YearBuilt', 'Lattitude', 'Longtitude']\n",
    "# X = melbourne_data[melbourne_features]\n",
    "\n",
    "# from sklearn.model_selection import train_test_split\n",
    "\n",
    "# split data into training and validation data, for both features and target\n",
    "# The split is based on a random number generator. Supplying a numeric value to\n",
    "# the random_state argument guarantees we get the same split every time we\n",
    "# run this script.\n",
    "# train_X, val_X, train_y, val_y = train_test_split(X, y,random_state = 0)"
   ]
  },
  {
   "cell_type": "code",
   "execution_count": null,
   "id": "de12389c",
   "metadata": {},
   "outputs": [],
   "source": [
    "import pandas as pd\n",
    "dev_data = pd.read_csv('/Users/naveenmsu/Desktop/Competition/DSU Competition Development Data.csv')"
   ]
  },
  {
   "cell_type": "code",
   "execution_count": null,
   "id": "cd3485a3",
   "metadata": {},
   "outputs": [],
   "source": [
    "dev_data.shape"
   ]
  },
  {
   "cell_type": "code",
   "execution_count": null,
   "id": "4d175681",
   "metadata": {},
   "outputs": [],
   "source": [
    "dev_data = dev_data.dropna(axis=0)"
   ]
  },
  {
   "cell_type": "code",
   "execution_count": null,
   "id": "811aca4b",
   "metadata": {},
   "outputs": [],
   "source": [
    "dev_data['CurrentDate'] = pd.to_datetime(dev_data['CurrentDate'], \n",
    " format = '%m/%d/%Y', \n",
    " errors = 'coerce')\n",
    "dev_data['AccountDetail2'] = pd.to_datetime(dev_data['AccountDetail2'], \n",
    " format = '%m/%d/%Y', \n",
    " errors = 'coerce')\n",
    "dev_data['AccountStatus2'] = pd.to_datetime(dev_data['AccountStatus2'], \n",
    " format = '%m/%d/%Y', \n",
    " errors = 'coerce')\n",
    "dev_data['PrevAccountDetail1'] = pd.to_datetime(dev_data['PrevAccountDetail1'], \n",
    " format = '%m/%d/%Y', \n",
    " errors = 'coerce')\n",
    "dev_data['AccountDetail8'] = pd.to_datetime(dev_data['AccountDetail8'], \n",
    " format = '%m/%d/%Y', \n",
    " errors = 'coerce')\n",
    "dev_data['Payment2'] = pd.to_datetime(dev_data['Payment2'], \n",
    " format = '%m/%d/%Y', \n",
    " errors = 'coerce')\n",
    "dev_data['Payment4'] = pd.to_datetime(dev_data['Payment4'], \n",
    " format = '%m/%d/%Y', \n",
    " errors = 'coerce')"
   ]
  },
  {
   "cell_type": "code",
   "execution_count": null,
   "id": "fb1fbfca",
   "metadata": {},
   "outputs": [],
   "source": [
    "# dev_data[['AccountDetail2','AccountStatus2','PrevAccountDetail1','AccountDetail8','Payment2','Payment4']]\n",
    "# dev_data.head()"
   ]
  },
  {
   "cell_type": "code",
   "execution_count": null,
   "id": "686c943a",
   "metadata": {},
   "outputs": [],
   "source": [
    "dev_data['AccountDetail2_year'] = dev_data['AccountDetail2'].dt.year\n",
    "dev_data['AccountDetail2_month'] = dev_data['AccountDetail2'].dt.month\n",
    "dev_data['AccountDetail2_week'] = dev_data['AccountDetail2'].dt.week\n",
    "dev_data['AccountDetail2_day'] = dev_data['AccountDetail2'].dt.day"
   ]
  },
  {
   "cell_type": "code",
   "execution_count": null,
   "id": "a6790a09",
   "metadata": {},
   "outputs": [],
   "source": [
    "dev_data['AccountStatus2_year'] = dev_data['AccountStatus2'].dt.year\n",
    "dev_data['AccountStatus2_month'] = dev_data['AccountStatus2'].dt.month\n",
    "dev_data['AccountStatus2_week'] = dev_data['AccountStatus2'].dt.week\n",
    "dev_data['AccountStatus2_day'] = dev_data['AccountStatus2'].dt.day"
   ]
  },
  {
   "cell_type": "code",
   "execution_count": null,
   "id": "8a1891f4",
   "metadata": {},
   "outputs": [],
   "source": [
    "dev_data['PrevAccountDetail1_year'] = dev_data['PrevAccountDetail1'].dt.year\n",
    "dev_data['PrevAccountDetail1_month'] = dev_data['PrevAccountDetail1'].dt.month\n",
    "dev_data['PrevAccountDetail1_week'] = dev_data['PrevAccountDetail1'].dt.week\n",
    "dev_data['PrevAccountDetail1_day'] = dev_data['PrevAccountDetail1'].dt.day"
   ]
  },
  {
   "cell_type": "code",
   "execution_count": null,
   "id": "7252e3d1",
   "metadata": {},
   "outputs": [],
   "source": [
    "dev_data['AccountDetail8_year'] = dev_data['AccountDetail8'].dt.year\n",
    "dev_data['AccountDetail8_month'] = dev_data['AccountDetail8'].dt.month\n",
    "dev_data['AccountDetail8_week'] = dev_data['AccountDetail8'].dt.week\n",
    "dev_data['AccountDetail8_day'] = dev_data['AccountDetail8'].dt.day"
   ]
  },
  {
   "cell_type": "code",
   "execution_count": null,
   "id": "34c88ad3",
   "metadata": {},
   "outputs": [],
   "source": [
    "dev_data['Payment2_year'] = dev_data['Payment2'].dt.year\n",
    "dev_data['Payment2_month'] = dev_data['Payment2'].dt.month\n",
    "dev_data['Payment2_week'] = dev_data['Payment2'].dt.week\n",
    "dev_data['Payment2_day'] = dev_data['Payment2'].dt.day"
   ]
  },
  {
   "cell_type": "code",
   "execution_count": null,
   "id": "507a33f8",
   "metadata": {},
   "outputs": [],
   "source": [
    "dev_data['Payment4_year'] = dev_data['Payment4'].dt.year\n",
    "dev_data['Payment4_month'] = dev_data['Payment4'].dt.month\n",
    "dev_data['Payment4_week'] = dev_data['Payment4'].dt.week\n",
    "dev_data['Payment4_day'] = dev_data['Payment4'].dt.day"
   ]
  },
  {
   "cell_type": "code",
   "execution_count": null,
   "id": "52457782",
   "metadata": {},
   "outputs": [],
   "source": [
    "dev_data['CurrentDate_year'] = dev_data['CurrentDate'].dt.year\n",
    "dev_data['CurrentDate_month'] = dev_data['CurrentDate'].dt.month\n",
    "dev_data['CurrentDate_week'] = dev_data['CurrentDate'].dt.week\n",
    "dev_data['CurrentDate_day'] = dev_data['CurrentDate'].dt.day"
   ]
  },
  {
   "cell_type": "code",
   "execution_count": null,
   "id": "f5639fbe",
   "metadata": {},
   "outputs": [],
   "source": [
    "dev_data['AccountDetail5_new'] = dev_data['AccountDetail5'].replace(['X'],0)\n",
    "dev_data['AccountDetail6_new'] = dev_data['AccountDetail6'].replace(['X'],0)"
   ]
  },
  {
   "cell_type": "code",
   "execution_count": null,
   "id": "0d857cb9",
   "metadata": {},
   "outputs": [],
   "source": [
    "y = dev_data.Target"
   ]
  },
  {
   "cell_type": "code",
   "execution_count": null,
   "id": "79652476",
   "metadata": {},
   "outputs": [],
   "source": [
    "X = dev_data.drop(['Target','CurrentDate',\n",
    "                   'AccountDetail2','AccountStatus2',\n",
    "                   'PrevAccountDetail1','AccountDetail8',\n",
    "                   'Payment2','Payment4',\n",
    "                   'AccountDetail5','AccountDetail6',\n",
    "                   'UniqueID','AccountStatus1','PrevAccountStatus1','PrevAccountStatus2'],axis=1)"
   ]
  },
  {
   "cell_type": "code",
   "execution_count": null,
   "id": "54134217",
   "metadata": {},
   "outputs": [],
   "source": [
    "from sklearn.model_selection import train_test_split\n",
    "train_X, val_X, train_y, val_y = train_test_split(X, y,random_state = 0)"
   ]
  },
  {
   "cell_type": "code",
   "execution_count": null,
   "id": "e5cdefc3",
   "metadata": {},
   "outputs": [],
   "source": [
    "train_X.shape"
   ]
  },
  {
   "cell_type": "code",
   "execution_count": null,
   "id": "f7d99c1f",
   "metadata": {},
   "outputs": [],
   "source": [
    "val_X.shape"
   ]
  },
  {
   "cell_type": "code",
   "execution_count": null,
   "id": "e3cc1a9a",
   "metadata": {},
   "outputs": [],
   "source": [
    "from sklearn.linear_model import LogisticRegression\n",
    "from sklearn.metrics import classification_report, confusion_matrix, mean_absolute_error\n",
    "\n",
    "model = LogisticRegression(solver='liblinear', random_state=0)\n",
    "model2 = LogisticRegression(solver='liblinear', random_state=0, C=7.0)\n",
    "model.fit(train_X, train_y)\n",
    "model2.fit(train_X, train_y)\n",
    "melb_preds = model.predict(val_X)\n",
    "melb_preds2 = model2.predict(val_X)\n",
    "print(mean_absolute_error(val_y, melb_preds))\n",
    "print(mean_absolute_error(val_y, melb_preds2))"
   ]
  },
  {
   "cell_type": "code",
   "execution_count": null,
   "id": "6562e7ed",
   "metadata": {},
   "outputs": [],
   "source": [
    "# import matplotlib.pyplot as plt\n",
    "# plt.figure(figsize=(10,10))\n",
    "# plt.scatter(melb_preds, val_y, c='crimson')\n",
    "print(model.score(val_X,val_y))\n",
    "print(model2.score(val_X,val_y))"
   ]
  },
  {
   "cell_type": "code",
   "execution_count": null,
   "id": "95bc27c6",
   "metadata": {},
   "outputs": [],
   "source": [
    "confusion_matrix(val_y, model.predict(val_X))"
   ]
  }
 ],
 "metadata": {
  "kernelspec": {
   "display_name": "Python 3 (ipykernel)",
   "language": "python",
   "name": "python3"
  },
  "language_info": {
   "codemirror_mode": {
    "name": "ipython",
    "version": 3
   },
   "file_extension": ".py",
   "mimetype": "text/x-python",
   "name": "python",
   "nbconvert_exporter": "python",
   "pygments_lexer": "ipython3",
   "version": "3.9.13"
  }
 },
 "nbformat": 4,
 "nbformat_minor": 5
}
